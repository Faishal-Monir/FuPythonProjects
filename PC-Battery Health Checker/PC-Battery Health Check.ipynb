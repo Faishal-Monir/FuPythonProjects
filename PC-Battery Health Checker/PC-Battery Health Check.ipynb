{
 "cells": [
  {
   "cell_type": "code",
   "execution_count": 2,
   "metadata": {},
   "outputs": [
    {
     "name": "stdout",
     "output_type": "stream",
     "text": [
      "\n",
      " -------OUTPUT-------\n",
      "Your battery Can now be charged to --> 99.64390243902439%  <-- at (100%) charge capacity.\n"
     ]
    }
   ],
   "source": [
    "# BAttery percentage check\n",
    "# Run cmd as Administrator and type(powercfg/Batteryreport)\n",
    "x=int(input(\"Your last full charge capacity: \"))\n",
    "y=int(input(\"Your original battery build capacity:\"))\n",
    "if x > y  :\n",
    "    print(\"\\n\",\"-------OUTPUT-------\")\n",
    "    print(\"Invalid input !! \\nBattery current % can not be more than original capacity ! \")\n",
    "elif x==y:\n",
    "    print(\"\\n\",\"-------OUTPUT-------\")\n",
    "    print(\"Your battery is all ok and can be charged to 100% at full charge.\")\n",
    "else:\n",
    "    z=(x/y)*100\n",
    "    print(\"\\n\",\"-------OUTPUT-------\")\n",
    "    print(f\"Your battery Can now be charged to --> {z}%  <-- at (100%) charge capacity.\")"
   ]
  }
 ],
 "metadata": {
  "kernelspec": {
   "display_name": "Python 3",
   "language": "python",
   "name": "python3"
  },
  "language_info": {
   "codemirror_mode": {
    "name": "ipython",
    "version": 3
   },
   "file_extension": ".py",
   "mimetype": "text/x-python",
   "name": "python",
   "nbconvert_exporter": "python",
   "pygments_lexer": "ipython3",
   "version": "3.10.7"
  },
  "orig_nbformat": 4
 },
 "nbformat": 4,
 "nbformat_minor": 2
}
